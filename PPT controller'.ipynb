{
 "cells": [
  {
   "cell_type": "code",
   "execution_count": 1,
   "id": "b53a1994",
   "metadata": {},
   "outputs": [
    {
     "name": "stderr",
     "output_type": "stream",
     "text": [
      "D:\\Anaconda\\lib\\site-packages\\requests\\__init__.py:109: RequestsDependencyWarning: urllib3 (2.0.6) or chardet (4.0.0)/charset_normalizer (2.0.4) doesn't match a supported version!\n",
      "  warnings.warn(\n"
     ]
    },
    {
     "name": "stdout",
     "output_type": "stream",
     "text": [
      "['1.png', '2.png', '3.png', '4.png', '5.png', '6.png', '7.png', '8.png', '9.png', '10.png', '11.png', '12.png', '13.png', '14.png', '15.png', '16.png', '.ipynb_checkpoints']\n"
     ]
    },
    {
     "name": "stderr",
     "output_type": "stream",
     "text": [
      "D:\\Anaconda\\lib\\site-packages\\google\\protobuf\\symbol_database.py:78: UserWarning: SymbolDatabase.GetPrototype() is deprecated. Please use message_factory.GetMessageClass() instead. SymbolDatabase.GetPrototype() will be removed soon.\n",
      "  warnings.warn('SymbolDatabase.GetPrototype() is deprecated. Please '\n"
     ]
    },
    {
     "name": "stdout",
     "output_type": "stream",
     "text": [
      "0\n"
     ]
    },
    {
     "ename": "error",
     "evalue": "OpenCV(4.8.0) :-1: error: (-5:Bad argument) in function 'circle'\n> Overload resolution failed:\n>  - Argument 'radius' is required to be an integer\n>  - Argument 'radius' is required to be an integer\n",
     "output_type": "error",
     "traceback": [
      "\u001b[1;31m---------------------------------------------------------------------------\u001b[0m",
      "\u001b[1;31merror\u001b[0m                                     Traceback (most recent call last)",
      "Cell \u001b[1;32mIn[1], line 88\u001b[0m\n\u001b[0;32m     86\u001b[0m     \u001b[38;5;28mprint\u001b[39m(annotationNumber)\n\u001b[0;32m     87\u001b[0m     annotations[annotationNumber]\u001b[38;5;241m.\u001b[39mappend(indexFinger)\n\u001b[1;32m---> 88\u001b[0m     \u001b[43mcv2\u001b[49m\u001b[38;5;241;43m.\u001b[39;49m\u001b[43mcircle\u001b[49m\u001b[43m(\u001b[49m\u001b[43mimgCurrent\u001b[49m\u001b[43m,\u001b[49m\u001b[43m \u001b[49m\u001b[43mindexFinger\u001b[49m\u001b[43m,\u001b[49m\u001b[43m  \u001b[49m\u001b[43m(\u001b[49m\u001b[38;5;241;43m0\u001b[39;49m\u001b[43m,\u001b[49m\u001b[43m \u001b[49m\u001b[38;5;241;43m0\u001b[39;49m\u001b[43m,\u001b[49m\u001b[43m \u001b[49m\u001b[38;5;241;43m255\u001b[39;49m\u001b[43m)\u001b[49m\u001b[43m,\u001b[49m\u001b[43m \u001b[49m\u001b[43mcv2\u001b[49m\u001b[38;5;241;43m.\u001b[39;49m\u001b[43mFILLED\u001b[49m\u001b[43m)\u001b[49m\n\u001b[0;32m     90\u001b[0m \u001b[38;5;28;01melse\u001b[39;00m:\n\u001b[0;32m     91\u001b[0m     annotationStart \u001b[38;5;241m=\u001b[39m \u001b[38;5;28;01mFalse\u001b[39;00m\n",
      "\u001b[1;31merror\u001b[0m: OpenCV(4.8.0) :-1: error: (-5:Bad argument) in function 'circle'\n> Overload resolution failed:\n>  - Argument 'radius' is required to be an integer\n>  - Argument 'radius' is required to be an integer\n"
     ]
    }
   ],
   "source": [
    "from cvzone.HandTrackingModule import HandDetector\n",
    "import cv2\n",
    "import os\n",
    "import numpy as np\n",
    "\n",
    "# Parameters\n",
    "width, height = 2920, 1080\n",
    "gestureThreshold = 500\n",
    "folderPath = \"img\" #images folder path\n",
    "\n",
    "# Camera Setup\n",
    "cap = cv2.VideoCapture(0)\n",
    "cap.set(4, width)\n",
    "cap.set(5, height)\n",
    "\n",
    "# Hand Detector\n",
    "detectorHand = HandDetector(detectionCon=0.8, maxHands=1)\n",
    "\n",
    "# Variables\n",
    "imgList = []\n",
    "delay = 30\n",
    "buttonPressed = False\n",
    "counter = 0\n",
    "drawMode = False\n",
    "imgNumber = 0\n",
    "delayCounter = 0\n",
    "annotations = [[]]\n",
    "annotationNumber = -1\n",
    "annotationStart = False\n",
    "hs, ws = int(50 * 1), int(50 * 1)  # width and height of small image\n",
    "\n",
    "# Get list of presentation images\n",
    "pathImages = sorted(os.listdir(folderPath), key=len)\n",
    "print(pathImages)\n",
    "\n",
    "while True:\n",
    "    # Get image frame\n",
    "    success, img = cap.read()\n",
    "    img = cv2.flip(img, 1)\n",
    "    pathFullImage = os.path.join(folderPath, pathImages[imgNumber])\n",
    "    imgCurrent = cv2.imread(pathFullImage)\n",
    "\n",
    "    # Find the hand and its landmarks\n",
    "    hands, img = detectorHand.findHands(img)  # with draw\n",
    "    # Draw Gesture Threshold line\n",
    "    cv2.line(img, (0, gestureThreshold), (width, gestureThreshold), (0, 0, 255), 10)\n",
    "\n",
    "    if hands and buttonPressed is False:  # If hand is detected\n",
    "\n",
    "        hand = hands[0]\n",
    "        cx, cy = hand[\"center\"]\n",
    "        lmList = hand[\"lmList\"]  # List of 21 Landmark points\n",
    "        fingers = detectorHand.fingersUp(hand)  # List of which fingers are up\n",
    "\n",
    "        # Constrain values for easier drawing\n",
    "        xVal = int(np.interp(lmList[8][0], [0, width], [0, width]))\n",
    "        yVal = int(np.interp(lmList[8][1], [0, height], [0, height]))\n",
    "        indexFinger = xVal, yVal\n",
    "\n",
    "        if cy <= gestureThreshold:  # If hand is at the height of the face\n",
    "            if fingers == [1, 0, 0, 0, 0]:\n",
    "                print(\"Left\")\n",
    "                buttonPressed = True\n",
    "                if imgNumber > 0:\n",
    "                    imgNumber -= 1\n",
    "                    annotations = [[]]\n",
    "                    annotationNumber = -1\n",
    "                    annotationStart = False\n",
    "            if fingers == [0, 0, 0, 0, 1]:\n",
    "                print(\"Right\")\n",
    "                buttonPressed = True\n",
    "                if imgNumber < len(pathImages) - 1:\n",
    "                    imgNumber += 1\n",
    "                    annotations = [[]]\n",
    "                    annotationNumber = -1\n",
    "                    annotationStart = False\n",
    "\n",
    "        if fingers == [0, 1, 1, 0, 0]:\n",
    "            cv2.circle(imgCurrent, indexFinger, 12, (0,0, 255), cv2.FILLED)\n",
    "\n",
    "        if fingers == [0, 1, 0, 0, 0]:\n",
    "            if annotationStart is False:\n",
    "                annotationStart = True\n",
    "                annotationNumber += 1\n",
    "                annotations.append([])\n",
    "            print(annotationNumber)\n",
    "            annotations[annotationNumber].append(indexFinger)\n",
    "            cv2.circle(imgCurrent, indexFinger,  (0, 0, 255), cv2.FILLED)\n",
    "\n",
    "        else:\n",
    "            annotationStart = False\n",
    "\n",
    "        if fingers == [0, 1, 1, 1, 0]:\n",
    "            if annotations:\n",
    "                annotations.pop(-1)\n",
    "                annotationNumber -= 1\n",
    "                buttonPressed = True\n",
    "\n",
    "    else:\n",
    "        annotationStart = False\n",
    "\n",
    "    if buttonPressed:\n",
    "        counter += 1\n",
    "        if counter > delay:\n",
    "            counter = 0\n",
    "            buttonPressed = False\n",
    "\n",
    "    for i, annotation in enumerate(annotations):\n",
    "        for j in range(len(annotation)):\n",
    "            if j != 0:\n",
    "                cv2.line(imgCurrent, annotation[j - 1], annotation[j], (0, 0, 255), 12)\n",
    "\n",
    "    imgSmall = cv2.resize(img, (ws, hs))\n",
    "    h, w, _ = imgCurrent.shape\n",
    "    imgCurrent[0:hs, w - ws: w] = imgSmall\n",
    "\n",
    "    cv2.imshow(\"Slides\", imgCurrent)\n",
    "    cv2.imshow(\"Handler\", img)\n",
    "\n",
    "    key = cv2.waitKey(1)\n",
    "    if key == ord('q'):\n",
    "        break"
   ]
  },
  {
   "cell_type": "code",
   "execution_count": 2,
   "id": "f3600c89",
   "metadata": {},
   "outputs": [],
   "source": [
    "\n",
    "from PIL import Image\n",
    "\n",
    "img1 = Image.open ('1.png');\n",
    "img1.show ();"
   ]
  },
  {
   "cell_type": "code",
   "execution_count": null,
   "id": "b2fce70a",
   "metadata": {},
   "outputs": [],
   "source": []
  },
  {
   "cell_type": "code",
   "execution_count": null,
   "id": "649ee7f7",
   "metadata": {},
   "outputs": [],
   "source": []
  }
 ],
 "metadata": {
  "kernelspec": {
   "display_name": "Python 3 (ipykernel)",
   "language": "python",
   "name": "python3"
  },
  "language_info": {
   "codemirror_mode": {
    "name": "ipython",
    "version": 3
   },
   "file_extension": ".py",
   "mimetype": "text/x-python",
   "name": "python",
   "nbconvert_exporter": "python",
   "pygments_lexer": "ipython3",
   "version": "3.10.9"
  }
 },
 "nbformat": 4,
 "nbformat_minor": 5
}
